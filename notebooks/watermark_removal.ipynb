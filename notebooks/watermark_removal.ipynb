{
 "cells": [
  {
   "cell_type": "markdown",
   "metadata": {},
   "source": [
    "Import the required libraries"
   ]
  },
  {
   "cell_type": "code",
   "execution_count": 2,
   "metadata": {},
   "outputs": [],
   "source": [
    "import cv2\n",
    "import os\n",
    "from bs4 import BeautifulSoup\n",
    "import requests as request\n",
    "import numpy as np"
   ]
  },
  {
   "cell_type": "markdown",
   "metadata": {},
   "source": [
    "create Laura's images folder"
   ]
  },
  {
   "cell_type": "code",
   "execution_count": 3,
   "metadata": {},
   "outputs": [],
   "source": [
    "folder='laura_images/'\n",
    "nowatermarkfolder = 'laura_images/nowatermark/'\n",
    "url = \"https://ofinodafoto.fotop.com.br/fotos/eventos/busca/cat/75245/evento/85654\""
   ]
  },
  {
   "cell_type": "code",
   "execution_count": 4,
   "metadata": {},
   "outputs": [],
   "source": [
    "#check if folder named images exists,  if not create one\n",
    "if not os.path.exists(folder):\n",
    "    os.makedirs(folder)\n",
    "if not os.path.exists(nowatermarkfolder):\n",
    "    os.makedirs(nowatermarkfolder)"
   ]
  },
  {
   "cell_type": "markdown",
   "metadata": {},
   "source": [
    "Websscrap the url"
   ]
  },
  {
   "cell_type": "code",
   "execution_count": 5,
   "metadata": {},
   "outputs": [],
   "source": [
    "page = request.get(url)\n",
    "soup = BeautifulSoup(page.content, 'html.parser')"
   ]
  },
  {
   "cell_type": "code",
   "execution_count": null,
   "metadata": {},
   "outputs": [],
   "source": [
    "  \n",
    "# get all the images\n",
    "images = soup.findAll('img')\n",
    "\n",
    "#remove images where source has '/publico/'\n",
    "images = [image for image in images if '/publico/' not in image['src']]\n",
    "\n",
    "# get the src of the images\n",
    "for image in images:\n",
    "    #download the images to the folder images\n",
    "    image_url = image['src']\n",
    "    print(image_url)\n",
    "    filename = image_url.split('/')[-1]\n",
    "    print(filename)\n",
    "    r = request.get(image_url, stream=True)\n",
    "    \n",
    "    if r.status_code == 200:\n",
    "        with open(folder + filename, 'wb') as f:\n",
    "            for chunk in r:\n",
    "                f.write(chunk)\n",
    "        print('saved')\n",
    "    else:\n",
    "        print('not saved')\n"
   ]
  },
  {
   "cell_type": "code",
   "execution_count": 8,
   "metadata": {},
   "outputs": [
    {
     "name": "stdout",
     "output_type": "stream",
     "text": [
      "laura_images/img_7175_1030347_85654_g.jpg laura_images/nowatermark/img_7175_1030347_85654_g.jpg\n"
     ]
    }
   ],
   "source": [
    "def remove_watermark(image, fullname_save_path):\n",
    "    image = cv2.imread(image)\n",
    "    gray = cv2.cvtColor(image, cv2.COLOR_BGR2GRAY)\n",
    "    ret, mask = cv2.threshold(gray, 200, 255, cv2.THRESH_BINARY_INV)\n",
    "    kernel = np.ones((5, 5), np.uint8)\n",
    "    mask = cv2.morphologyEx(mask, cv2.MORPH_OPEN, kernel)\n",
    "    mask = cv2.morphologyEx(mask, cv2.MORPH_CLOSE, kernel)\n",
    "    mask_inv = cv2.bitwise_not(mask)\n",
    "    result = cv2.bitwise_and(image, image, mask=mask_inv)\n",
    "    cv2.imwrite(fullname_save_path, result)\n",
    "\n",
    "#remove watermark from first file found in folder laura_images and save to laura_images_no_watermark\n",
    "for image in os.listdir(folder):\n",
    "    fullname = folder + image\n",
    "    fullname_save_path = nowatermarkfolder + image\n",
    "    print(fullname, fullname_save_path)\n",
    "    remove_watermark(fullname, fullname_save_path)\n",
    "    break\n",
    "    "
   ]
  },
  {
   "cell_type": "code",
   "execution_count": 16,
   "metadata": {},
   "outputs": [
    {
     "ename": "ValueError",
     "evalue": "The truth value of an array with more than one element is ambiguous. Use a.any() or a.all()",
     "output_type": "error",
     "traceback": [
      "\u001b[0;31m---------------------------------------------------------------------------\u001b[0m",
      "\u001b[0;31mValueError\u001b[0m                                Traceback (most recent call last)",
      "\u001b[1;32m/workspaces/facial-recognition/notebooks/watermark_removal.ipynb Cell 10\u001b[0m line \u001b[0;36m1\n\u001b[1;32m     <a href='vscode-notebook-cell://codespaces%2Bdavidsantosfranca-fuzzy-fortnight-9w6xgq776g9cpj6j/workspaces/facial-recognition/notebooks/watermark_removal.ipynb#X15sdnNjb2RlLXJlbW90ZQ%3D%3D?line=9'>10</a>\u001b[0m \u001b[39mfor\u001b[39;00m i \u001b[39min\u001b[39;00m \u001b[39mrange\u001b[39m(\u001b[39mlen\u001b[39m(image_array)):\n\u001b[1;32m     <a href='vscode-notebook-cell://codespaces%2Bdavidsantosfranca-fuzzy-fortnight-9w6xgq776g9cpj6j/workspaces/facial-recognition/notebooks/watermark_removal.ipynb#X15sdnNjb2RlLXJlbW90ZQ%3D%3D?line=10'>11</a>\u001b[0m     \u001b[39mfor\u001b[39;00m j \u001b[39min\u001b[39;00m \u001b[39mrange\u001b[39m(\u001b[39mlen\u001b[39m(image_array[\u001b[39m0\u001b[39m])):\n\u001b[0;32m---> <a href='vscode-notebook-cell://codespaces%2Bdavidsantosfranca-fuzzy-fortnight-9w6xgq776g9cpj6j/workspaces/facial-recognition/notebooks/watermark_removal.ipynb#X15sdnNjb2RlLXJlbW90ZQ%3D%3D?line=11'>12</a>\u001b[0m         \u001b[39mif\u001b[39;00m image_array[i][j] \u001b[39m==\u001b[39m watermark_rgb:\n\u001b[1;32m     <a href='vscode-notebook-cell://codespaces%2Bdavidsantosfranca-fuzzy-fortnight-9w6xgq776g9cpj6j/workspaces/facial-recognition/notebooks/watermark_removal.ipynb#X15sdnNjb2RlLXJlbW90ZQ%3D%3D?line=12'>13</a>\u001b[0m             image_array[i][j] \u001b[39m=\u001b[39m (\u001b[39m255\u001b[39m, \u001b[39m255\u001b[39m, \u001b[39m255\u001b[39m)\n\u001b[1;32m     <a href='vscode-notebook-cell://codespaces%2Bdavidsantosfranca-fuzzy-fortnight-9w6xgq776g9cpj6j/workspaces/facial-recognition/notebooks/watermark_removal.ipynb#X15sdnNjb2RlLXJlbW90ZQ%3D%3D?line=14'>15</a>\u001b[0m \u001b[39mimport\u001b[39;00m \u001b[39mskimage\u001b[39;00m\u001b[39m.\u001b[39;00m\u001b[39mio\u001b[39;00m \u001b[39mas\u001b[39;00m \u001b[39mio\u001b[39;00m\n",
      "\u001b[0;31mValueError\u001b[0m: The truth value of an array with more than one element is ambiguous. Use a.any() or a.all()"
     ]
    }
   ],
   "source": [
    "# load images from folder and convert them to np array\n",
    "images = []\n",
    "image_array = []\n",
    "for image in os.listdir(folder):\n",
    "    fullname = folder + image\n",
    "    image_array.append(np.array(cv2.imread(fullname)))\n",
    "\n",
    "\n",
    "watermark_rgb = (255, 255, 255)\n",
    "for i in range(len(image_array)):\n",
    "    for j in range(len(image_array[0])):\n",
    "        if image_array[i][j] == watermark_rgb:\n",
    "            image_array[i][j] = (255, 255, 255)\n",
    "\n",
    "import skimage.io as io\n",
    "for image in images:\n",
    "    io.imsave(nowatermarkfolder+\"watermarked_no_watermark.png\", image)"
   ]
  }
 ],
 "metadata": {
  "kernelspec": {
   "display_name": "Python 3",
   "language": "python",
   "name": "python3"
  },
  "language_info": {
   "codemirror_mode": {
    "name": "ipython",
    "version": 3
   },
   "file_extension": ".py",
   "mimetype": "text/x-python",
   "name": "python",
   "nbconvert_exporter": "python",
   "pygments_lexer": "ipython3",
   "version": "3.10.13"
  }
 },
 "nbformat": 4,
 "nbformat_minor": 2
}
